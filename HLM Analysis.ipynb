{
 "cells": [
  {
   "cell_type": "markdown",
   "id": "70bd4f65",
   "metadata": {},
   "source": [
    "# Hierarchical Linear Model\n",
    "\n",
    "## Hands-on material\n",
    "\n",
    "Notebook ini berisikan perintah-pertintah dan dokumentasi dalam melakukan analisis _Hierarchical Linear Model_ yaitu sebuah rumpun model yang memiliki struktur data berjenjang"
   ]
  },
  {
   "cell_type": "markdown",
   "id": "a0ab4731",
   "metadata": {},
   "source": [
    "## A. Persiapan\n",
    "\n",
    "### 1. Setting up working environment"
   ]
  },
  {
   "cell_type": "code",
   "execution_count": 3,
   "id": "1c906803",
   "metadata": {},
   "outputs": [],
   "source": [
    "set more off\n",
    "version 12"
   ]
  },
  {
   "cell_type": "code",
   "execution_count": 4,
   "id": "39d638ad",
   "metadata": {},
   "outputs": [
    {
     "name": "stdout",
     "output_type": "stream",
     "text": [
      "D:\\Documents\\OneDrive - Institut Teknologi Bandung\\Documents\\Teaching\\SP6015\\Mgg\n",
      "> #10\n"
     ]
    }
   ],
   "source": [
    "cd \"D:\\Documents\\OneDrive - Institut Teknologi Bandung\\Documents\\Teaching\\SP6015\\Mgg#10\""
   ]
  },
  {
   "cell_type": "markdown",
   "id": "00f9adde",
   "metadata": {},
   "source": [
    "### 2. Loading the dataset\n",
    "\n",
    "Syarat utama dari HLM adalah bahwa struktur datanya bersifat bertingkat: variable lvl-1 bersarang dalam variabel lvl-2 dan bersarang dalam variabel lvl-3, dst. Kita akan mengawali dengan membuka dataset yang telah bersuktrut untuk mendemostrasikan bentuk struktur data yang akan digunalan dalam analisis HLM."
   ]
  },
  {
   "cell_type": "code",
   "execution_count": 5,
   "id": "6e8e9626",
   "metadata": {},
   "outputs": [],
   "source": [
    "use hsb.dta, clear"
   ]
  },
  {
   "cell_type": "code",
   "execution_count": 6,
   "id": "576cd40a",
   "metadata": {},
   "outputs": [
    {
     "name": "stdout",
     "output_type": "stream",
     "text": [
      "\n",
      "Contains data from hsb.dta\n",
      "  obs:         7,185                          \n",
      " vars:             8                          27 Oct 2021 21:52\n",
      " size:       431,100                          \n",
      "--------------------------------------------------------------------------------\n",
      "              storage   display    value\n",
      "variable name   type    format     label      variable label\n",
      "--------------------------------------------------------------------------------\n",
      "schid           str4    %4s                   School ID\n",
      "minority        double  %9.0g                 Minority Student- 0=white and\n",
      "                                                1=non-white students\n",
      "female          double  %9.0g                 Female student-coded 0 for male\n",
      "                                                and 1 for female\n",
      "ses             double  %9.0g                 A measure of student\n",
      "                                                socio-economic status\n",
      "mathach         double  %9.0g                 Student's performance on a\n",
      "                                                standardized math assessment\n",
      "size            double  %9.0g                 Number of students in the school\n",
      "schtype         double  %9.0g                 Private school -coded 0 for public\n",
      "                                                and 1 for private schools\n",
      "meanses         double  %9.0g                 the average SES for each school in\n",
      "                                                the data set\n",
      "--------------------------------------------------------------------------------\n",
      "Sorted by: \n"
     ]
    }
   ],
   "source": [
    "describe"
   ]
  },
  {
   "cell_type": "markdown",
   "id": "109c93cc",
   "metadata": {},
   "source": [
    "### High School and Beyond\n",
    "\n",
    "Data ini merupakan sub-sampel dari Survey High School and Beyond (1982) yang juga digunakan pada buku Hierarchical Linear Models oleh Raudenbush and Bryk. file dataset ini adalah hsb.dta yang berisikan 7185 siswa tingkat sekolah menengah atas di USA yang \"bersarang\"/nested di 160 sekolah. Dataset ini berisikan variable-variabel:\n",
    "- schid: kode sekolah\n",
    "- minority: siswa adalah termasuk minoritas (0=kulit putih, 1= non-kulit putih)\n",
    "- female: siswa perempuan (0=laki-laki, 1= perempuan)\n",
    "- ses: index/score status sosial ekonomi dari siswa\n",
    "- mathach: nilai siswa pada test matematika\n",
    "- size: jumlah siswa di sekolah\n",
    "- schtype: tipe sekolah (1= sekolah swasta, 0 = sekolah negeri)\n",
    "- meanses: rata-rata skor SES untuk setiap sekolah\n",
    "\n",
    "Variable-variabel diatas terdiri dari 2 dataset. Dataset pertama adalah dataset untuk level individu siswa (hsb_student.dta) atau yang akan disebut seterusnya sebagai Level-1 dan dataset yang kedua adalah (hsb_school.dta), yang selanjutnya akan disebut sebagai Level-2. Dataset hsb_student.dta berisikan informasi tentang 7185 siswa, sedangkan hsb_school.dta berisikan informasi tentang 160 sekolah, dimana seluruh sampel siswa pada dataset hsb_student.dta bersekolah. Kedua dataset tersebut akan disatukan (merged-up) menjadi 1 dataset utuh."
   ]
  },
  {
   "cell_type": "markdown",
   "id": "06207811",
   "metadata": {},
   "source": [
    "Selanjutnya kita akan membuka dataset level 1 dan level 2 secara terpisah dan kemudian disatukan (merge) menjadi 1 dataset berstruktur hierarkis."
   ]
  },
  {
   "cell_type": "markdown",
   "id": "f29f4027",
   "metadata": {},
   "source": [
    "#### Buka dataset level-1"
   ]
  },
  {
   "cell_type": "code",
   "execution_count": 7,
   "id": "130fb285",
   "metadata": {},
   "outputs": [],
   "source": [
    "use \"hsb_student.dta\", clear"
   ]
  },
  {
   "cell_type": "code",
   "execution_count": 8,
   "id": "2bfd928e",
   "metadata": {},
   "outputs": [
    {
     "name": "stdout",
     "output_type": "stream",
     "text": [
      "\n",
      "Contains data from hsb_student.dta\n",
      "  obs:         7,185                          \n",
      " vars:             6                          27 Oct 2021 22:09\n",
      " size:       287,400                          \n",
      "--------------------------------------------------------------------------------\n",
      "              storage   display    value\n",
      "variable name   type    format     label      variable label\n",
      "--------------------------------------------------------------------------------\n",
      "schid           str4    %4s                   School ID\n",
      "pid             float   %9.0g                 Studednt ID\n",
      "minority        double  %9.0g                 Minority Student- 0=white and\n",
      "                                                1=non-white students\n",
      "female          double  %9.0g                 Female student-coded 0 for male\n",
      "                                                and 1 for female\n",
      "ses             double  %9.0g                 A measure of student\n",
      "                                                socio-economic status\n",
      "mathach         double  %9.0g                 Student's performance on a\n",
      "                                                standardized math assessment\n",
      "--------------------------------------------------------------------------------\n",
      "Sorted by: schid\n"
     ]
    }
   ],
   "source": [
    "describe"
   ]
  },
  {
   "cell_type": "code",
   "execution_count": 9,
   "id": "9ead49c4",
   "metadata": {},
   "outputs": [
    {
     "name": "stdout",
     "output_type": "stream",
     "text": [
      "\n",
      "    Variable |        Obs        Mean    Std. Dev.       Min        Max\n",
      "-------------+---------------------------------------------------------\n",
      "       schid |          0\n",
      "         pid |      7,185    24.50814    15.20242          1         67\n",
      "    minority |      7,185     .274739    .4464137          0          1\n",
      "      female |      7,185    .5281837    .4992398          0          1\n",
      "         ses |      7,185    .0001434    .7793552     -3.758      2.692\n",
      "-------------+---------------------------------------------------------\n",
      "     mathach |      7,185    12.74785    6.878246     -2.832     24.993\n"
     ]
    }
   ],
   "source": [
    "sum"
   ]
  },
  {
   "cell_type": "markdown",
   "id": "97eaa78f",
   "metadata": {},
   "source": [
    "#### Buka dataset level-2"
   ]
  },
  {
   "cell_type": "code",
   "execution_count": 10,
   "id": "2692183d",
   "metadata": {},
   "outputs": [],
   "source": [
    "use \"hsb_school.dta\", clear"
   ]
  },
  {
   "cell_type": "code",
   "execution_count": 11,
   "id": "86df89aa",
   "metadata": {},
   "outputs": [
    {
     "name": "stdout",
     "output_type": "stream",
     "text": [
      "\n",
      "Contains data from hsb_school.dta\n",
      "  obs:           160                          \n",
      " vars:             4                          27 Oct 2021 22:11\n",
      " size:         4,480                          \n",
      "--------------------------------------------------------------------------------\n",
      "              storage   display    value\n",
      "variable name   type    format     label      variable label\n",
      "--------------------------------------------------------------------------------\n",
      "schid           str4    %4s                   School ID\n",
      "size            double  %9.0g                 Number of students in the school\n",
      "schtype         double  %9.0g                 Private school -coded 0 for public\n",
      "                                                and 1 for private schools\n",
      "meanses         double  %9.0g                 the average SES for each school in\n",
      "                                                the data set\n",
      "--------------------------------------------------------------------------------\n",
      "Sorted by: \n"
     ]
    }
   ],
   "source": [
    "describe"
   ]
  },
  {
   "cell_type": "code",
   "execution_count": 12,
   "id": "99bd2ba2",
   "metadata": {},
   "outputs": [
    {
     "name": "stdout",
     "output_type": "stream",
     "text": [
      "\n",
      "    Variable |        Obs        Mean    Std. Dev.       Min        Max\n",
      "-------------+---------------------------------------------------------\n",
      "       schid |          0\n",
      "        size |        160    1097.825    629.5064        100       2713\n",
      "     schtype |        160       .4375    .4976359          0          1\n",
      "     meanses |        160   -.0001875    .4139731     -1.188       .831\n"
     ]
    }
   ],
   "source": [
    "sum "
   ]
  },
  {
   "cell_type": "markdown",
   "id": "19dbe106",
   "metadata": {},
   "source": [
    "#### Merging the dataset level-1 ke dataset level-2"
   ]
  },
  {
   "cell_type": "code",
   "execution_count": 13,
   "id": "6c858e54",
   "metadata": {},
   "outputs": [
    {
     "name": "stdout",
     "output_type": "stream",
     "text": [
      "\n",
      "    Result                           # of obs.\n",
      "    -----------------------------------------\n",
      "    not matched                             0\n",
      "    matched                             7,185  \n",
      "    -----------------------------------------\n"
     ]
    }
   ],
   "source": [
    "merge 1:m schid using \"hsb_student.dta\",  nogen"
   ]
  },
  {
   "cell_type": "markdown",
   "id": "3c760989",
   "metadata": {},
   "source": [
    "### 3. Eksplorasi Data\n",
    "\n",
    "#### a. Statistika deskriptif"
   ]
  },
  {
   "cell_type": "code",
   "execution_count": 14,
   "id": "5d8e8e07",
   "metadata": {},
   "outputs": [
    {
     "name": "stdout",
     "output_type": "stream",
     "text": [
      "\n",
      "    Variable |        Obs        Mean    Std. Dev.       Min        Max\n",
      "-------------+---------------------------------------------------------\n",
      "       schid |          0\n",
      "        size |      7,185    1056.862    604.1725        100       2713\n",
      "     schtype |      7,185    .4931106    .4999873          0          1\n",
      "     meanses |      7,185    .0061385    .4135539     -1.188       .831\n",
      "         pid |      7,185    24.50814    15.20242          1         67\n",
      "-------------+---------------------------------------------------------\n",
      "    minority |      7,185     .274739    .4464137          0          1\n",
      "      female |      7,185    .5281837    .4992398          0          1\n",
      "         ses |      7,185    .0001434    .7793552     -3.758      2.692\n",
      "     mathach |      7,185    12.74785    6.878246     -2.832     24.993\n"
     ]
    }
   ],
   "source": [
    "sum"
   ]
  },
  {
   "cell_type": "markdown",
   "id": "c3d13670",
   "metadata": {},
   "source": [
    "#### b. Informasi tentang cluster"
   ]
  },
  {
   "cell_type": "code",
   "execution_count": 15,
   "id": "956d68f6",
   "metadata": {},
   "outputs": [
    {
     "name": "stdout",
     "output_type": "stream",
     "text": [
      "\n",
      "\n",
      "    Variable |        Obs        Mean    Std. Dev.       Min        Max\n",
      "-------------+---------------------------------------------------------\n",
      "     mathach |      7,185    12.74785    6.878246     -2.832     24.993\n",
      "\n",
      "\n",
      "\n",
      "\n",
      "\n",
      "    Variable |        Obs        Mean    Std. Dev.       Min        Max\n",
      "-------------+---------------------------------------------------------\n",
      "          sn |        160    44.90625    11.85489         14         67\n"
     ]
    }
   ],
   "source": [
    "sum mathach\n",
    "\n",
    "scalar om = r(mean)\n",
    "\n",
    "bysort schid: gen sn = _N     // school n\n",
    "\n",
    "by schid: gen first = _n == 1 // mark first obs in school\n",
    "\n",
    "sum sn if first"
   ]
  },
  {
   "cell_type": "markdown",
   "id": "f8dfe2a8",
   "metadata": {},
   "source": [
    "#### c. Visualisasi data"
   ]
  },
  {
   "cell_type": "code",
   "execution_count": null,
   "id": "66139e58",
   "metadata": {},
   "outputs": [],
   "source": [
    "twoway (scatter mathach ses if schtype ==1, mcolor(blue) msize(small) msymbol(circle_hollow) ///\n",
    "        mlwidth(vthin)) (scatter mathach ses if schtype ==0, mcolor(green) msize(vsmall) msymbol(square_hollow) ///\n",
    "                         mlwidth(vvvthin)), ytitle(Student's Math Score) legend(order(1 \"Catholic\" 2 \"Public\"))\n"
   ]
  },
  {
   "cell_type": "markdown",
   "id": "5cc5482d",
   "metadata": {},
   "source": [
    "## Model Hierarchical Linear Model:\n",
    "\n",
    "\n",
    "\n",
    "### Model 1: One-way ANOVA\n",
    "Model paling sederhana yang melakukan partisi variance dari variabel dependent diantara level utnuk memberikan baseline untuk \"improvement of fit\" dari estimasi.\n",
    "\n",
    "__Pertanyaan penelitian__ yang relevan: _Bagaimana variasi dalam skor test matematika diantara sekolah?_\n",
    "\n",
    "### Model 2: Regresi Means-as-Outcomes\n",
    "Spesifikasi model tanpa variable Level-1, dengan variable Level 2 memprediksi/menjelaskan group-means\n",
    "\n",
    "__Pertanyaan penelitian__ yang relevan: _Bagaimana karakteristik sekolah menentukan variasi rata-rata nilai antar sekolah?_\n",
    "\n",
    "### Model 3: Random-Coefficients Regression\n",
    "Spesifikasi model Level-1 sederhana dengan memasukkan variable independent Level-1 dengan partisi variance\n",
    "\n",
    "__Pertanyaan penelitian__ yang relevan: _Bagaimana karakteristik siswa berkaitan dengan skor test matematik?_\n",
    "\n",
    "### Model 4: Intercepts- & Slopes-as-Outcomes\n",
    "Spesifikasi model yang memperhatikan perbedaan pada koefisien di Level-1 dengan variabel Level-2\n",
    "\n",
    "__Pertanyaan penelitian__ yang relevan: _Bagaimana pengaruh karakteristik siswa bervariasi diantara sekolah?_"
   ]
  },
  {
   "cell_type": "markdown",
   "id": "418fe615",
   "metadata": {},
   "source": [
    "### Model 1: One-way ANOVA dengan Random Effects: Empty Model"
   ]
  },
  {
   "cell_type": "markdown",
   "id": "3365bfa3",
   "metadata": {},
   "source": [
    "Pada model yang paling sederhana adalah model yang ekivalen dengan model ove-way ANOVA dengan random effects yang ditunjukkan pada persamaan berikut:\n",
    "$$ \n",
    "Y_{ij}=\\beta_{0j} + r_{ij}  \n",
    "$$\n",
    "\n",
    "Dengan persamaan diatas, dapat diasumsikan bahwa setiap error pada level-1 diatas adalah terdistribusi normal, dnegan nilai rata-data error sama dengan 0, dan variance konstan pada level-1, $ \\sigma^{2} $. Pada dataset kit maka $i$ = 1, 2, ..., $ n_j $ adalah siswa di sekolah $j$, dan $j$=1,2,..., 160 sekolah. Model ini menujukka nilai rata pada test matematik  disetiap sekolah, yaitu $\\beta_{0j}$.\n",
    "\n",
    "Di Level-2 (tingkat sekolah), setiap nilai rata-rata skor matematika  $\\beta_{0j}$ adalah fungsi dari nilai rata-rata keseluruhan (grand-mean) $\\gamma_{00}$, dan random error $\\mu_{0j}$:\n",
    "\n",
    "$$ \n",
    "\\beta_{0j}= \\gamma_{00}+ u_{0j}  \n",
    "$$\n",
    "\n",
    "Dengan asumsi $u_{0j} ~ N(0,\\tau_{00})$. $\\tau_{00}$ adalah variansi di tingkat sekolah. \n",
    "Dari kedua persamaan diatas maka diperoleh model kombinasi atau yang dikenal dengan \"mixed-model\" dengan fixed-effect $\\gamma_{00}$ dan random-effects $ u_{0j}$ dan $ r_{ij}$:\n",
    "\n",
    "$$ \n",
    "Y_{ij}=\\gamma_{00}+ u_{0j} + r_{ij}  \n",
    "$$"
   ]
  },
  {
   "cell_type": "code",
   "execution_count": 16,
   "id": "a1dae665",
   "metadata": {},
   "outputs": [
    {
     "name": "stdout",
     "output_type": "stream",
     "text": [
      "\n",
      "Performing EM optimization: \n",
      "\n",
      "Performing gradient-based optimization: \n",
      "\n",
      "Iteration 0:   log restricted-likelihood = -23558.397  \n",
      "Iteration 1:   log restricted-likelihood = -23558.397  \n",
      "\n",
      "Computing standard errors:\n",
      "\n",
      "Mixed-effects REML regression                   Number of obs     =      7,185\n",
      "Group variable: schid                           Number of groups  =        160\n",
      "\n",
      "                                                Obs per group:\n",
      "                                                              min =         14\n",
      "                                                              avg =       44.9\n",
      "                                                              max =         67\n",
      "\n",
      "                                                Wald chi2(0)      =          .\n",
      "Log restricted-likelihood = -23558.397          Prob > chi2       =          .\n",
      "\n",
      "------------------------------------------------------------------------------\n",
      "     mathach |      Coef.   Std. Err.      z    P>|z|     [95% Conf. Interval]\n",
      "-------------+----------------------------------------------------------------\n",
      "       _cons |   12.63697   .2443943    51.71   0.000     12.15797    13.11598\n",
      "------------------------------------------------------------------------------\n",
      "\n",
      "------------------------------------------------------------------------------\n",
      "  Random-effects Parameters  |   Estimate   Std. Err.     [95% Conf. Interval]\n",
      "-----------------------------+------------------------------------------------\n",
      "schid: Identity              |\n",
      "                  var(_cons) |   8.614081   1.078813      6.739162    11.01062\n",
      "-----------------------------+------------------------------------------------\n",
      "               var(Residual) |   39.14832   .6606445      37.87466    40.46481\n",
      "------------------------------------------------------------------------------\n",
      "LR test vs. linear model: chibar2(01) = 986.12        Prob >= chibar2 = 0.0000\n"
     ]
    }
   ],
   "source": [
    "mixed mathach || schid:, variance reml"
   ]
  },
  {
   "cell_type": "markdown",
   "id": "62c805f5",
   "metadata": {},
   "source": [
    "### Hasil Estimasi\n",
    "\n",
    "Dari hasil diatas, koefisien intercept atau $\\tau_{00}$ adalah rata-rata dari nilai rata-rata sekolah (grand mean).\n",
    "\n",
    "Di tingkat sekolah $\\tau_{00}$ adalah variance dari \"true\" nilai rata-rata sekolah, $\\beta_{0j}$, disekitar nilai grand mean $\\gamma_{00}$. Estimasi variability dari rata-rata sekolah ditunjukkan pada nilai $var(cons)$ adalah:\n",
    "$$\n",
    "\\hat{Var}(\\beta_{0j})=\\hat{Var}(u_{0j})=\\hat{\\tau}_{00}=8.61\n",
    "$$\n",
    "\n",
    "Untuk menilai magnitude dari variasi diantara sekolah dari rata-rata nilai matematika (outcome), dapat dihitung rentang nilai yang mungkin dari nilai rata-rata sekolah. Dalam asumsi normalitas, 95% dari nilai rata-rata sekolah berada dalam rentang:\n",
    "$$\n",
    "\\hat{\\tau}_{00}\\pm 1.96 \\sqrt{\\hat{\\tau}_{00}}\n",
    "$$\n",
    "yaitu:\n",
    "$$\n",
    "12.64 \\pm 1.96 \\sqrt{8.61}= (6.89,18.39)\n",
    "$$\n",
    "\n",
    "Dari hasil diatas diperoleh hasil bahwa intraclass correlation (ICC) $\\rho$ = 0.180, yang dapat diartikan bahwa kurang labih 18% variasi pada skor matematika ditentukan oleh lingkungan sekolah.\n",
    "\n",
    "Intraclass correlation $\\hat\\rho$, dapat dihitung dengan persamaan berikut:\n",
    "$$\n",
    "\\hat\\rho = \\frac{\\hat\\tau_{00}}{\\hat\\tau_{00}+\\hat\\sigma^{2}} \n",
    "$$\n",
    "yaitu:\n",
    "$$\n",
    "\\hat\\rho = \\frac{8.614081}{8.614081+39.14832}= 0.18035\n",
    "$$\n",
    "\n",
    "Atau dengan post-estimation commad $ estat $ $icc$\n"
   ]
  },
  {
   "cell_type": "code",
   "execution_count": 17,
   "id": "d0cb3ce2",
   "metadata": {},
   "outputs": [
    {
     "name": "stdout",
     "output_type": "stream",
     "text": [
      "\n",
      "Intraclass correlation\n",
      "\n",
      "------------------------------------------------------------------------------\n",
      "                       Level |        ICC   Std. Err.     [95% Conf. Interval]\n",
      "-----------------------------+------------------------------------------------\n",
      "                       schid |   .1803528   .0187219      .1465168    .2199886\n",
      "------------------------------------------------------------------------------\n"
     ]
    }
   ],
   "source": [
    "estat icc"
   ]
  },
  {
   "cell_type": "markdown",
   "id": "7df102d5",
   "metadata": {},
   "source": [
    "### Model 2: Regresi dengan Means-as-Outcomes\n",
    "\n",
    "#### Model\n",
    "Persamaan tingkat siswa tetap tidak berubah bahwa nilai matematika siswa dipandang bervariasi disekitar nilai rata-rata sekolahnya:\n",
    "$$ \n",
    "Y_{ij}=\\beta_{0j} + r_{ij}  \n",
    "$$\n",
    "Namun sekarang persamaan $ \\beta_{0j}= \\gamma_{00}+ u_{0j} $ dikembangkan sehingga setiap nilai rata-rata sekolah diprediksikan oleh variabel sekolah yaitu rata-rata kondisi sosial ekonomi siswa $MEANSES$ di sekolah:\n",
    "$$ \n",
    "\\beta_{0j}= \\gamma_{00}+\\gamma_{01}MEANSES+u_{0j}\n",
    "$$\n",
    "Dimana $\\gamma_{00}$ adalah intercept, $\\gamma_{01}$ adalah effect dari MEANSES terhadap $\\beta_{0j}$ dan $u_{0j}$ diasumsikan terdistribusi normal dengan mean = 0, dan variance $\\tau_{00}$.\n",
    "\n",
    "Sekarang nilai $u_{0j}$ dan $\\tau_{00}$ memiliki makna yang berbeda. kalau sebelumnya $u_{0j}$ adalah simpangan dari rata-rata sekolah $j$ dari grand mean, sekarang $u_{0j}$ merupakan residual $\\beta_{0j}$ - $\\gamma_{00}$ - $\\gamma_{01}MEANSES$, dan $\\tau_{00}$ adalah conditional variance $Var(\\beta_{0j}|MEANSES)$ atau variance tingkat sekolah setelah mengontrol MEAN SES.\n",
    "\n",
    "Sehingga persamaan $Y_{ij}=\\beta_{0j} + r_{ij}  $ sekarang menjadi:\n",
    "$$\n",
    "Y_{ij}=\\gamma_{00} + \\gamma_{01}MEANSES + u_{0j} + r_{ij}  \n",
    "$$\n",
    "Dengan fixed effects $\\gamma_{00}$,$\\gamma_{01}$, dan random effects $u_{0j}$, $r_{ij}$"
   ]
  },
  {
   "cell_type": "code",
   "execution_count": 18,
   "id": "f94511f4",
   "metadata": {},
   "outputs": [
    {
     "name": "stdout",
     "output_type": "stream",
     "text": [
      "\n",
      "Performing EM optimization: \n",
      "\n",
      "Performing gradient-based optimization: \n",
      "\n",
      "Iteration 0:   log restricted-likelihood = -23480.642  \n",
      "Iteration 1:   log restricted-likelihood = -23480.642  \n",
      "\n",
      "Computing standard errors:\n",
      "\n",
      "Mixed-effects REML regression                   Number of obs     =      7,185\n",
      "Group variable: schid                           Number of groups  =        160\n",
      "\n",
      "                                                Obs per group:\n",
      "                                                              min =         14\n",
      "                                                              avg =       44.9\n",
      "                                                              max =         67\n",
      "\n",
      "                                                Wald chi2(1)      =     263.15\n",
      "Log restricted-likelihood = -23480.642          Prob > chi2       =     0.0000\n",
      "\n",
      "------------------------------------------------------------------------------\n",
      "     mathach |      Coef.   Std. Err.      z    P>|z|     [95% Conf. Interval]\n",
      "-------------+----------------------------------------------------------------\n",
      "     meanses |   5.863538   .3614574    16.22   0.000     5.155095    6.571982\n",
      "       _cons |   12.64944   .1492799    84.74   0.000     12.35685    12.94202\n",
      "------------------------------------------------------------------------------\n",
      "\n",
      "------------------------------------------------------------------------------\n",
      "  Random-effects Parameters  |   Estimate   Std. Err.     [95% Conf. Interval]\n",
      "-----------------------------+------------------------------------------------\n",
      "schid: Identity              |\n",
      "                  var(_cons) |   2.638696    .404337      1.954144    3.563051\n",
      "-----------------------------+------------------------------------------------\n",
      "               var(Residual) |   39.15709   .6608016      37.88312    40.47389\n",
      "------------------------------------------------------------------------------\n",
      "LR test vs. linear model: chibar2(01) = 239.95        Prob >= chibar2 = 0.0000\n"
     ]
    }
   ],
   "source": [
    "mixed mathach meanses || schid: , variance reml"
   ]
  },
  {
   "cell_type": "markdown",
   "id": "f37d8f3e",
   "metadata": {},
   "source": [
    "### Hasil Estimasi\n",
    "\n",
    "#### Fixed effects\n",
    "Dari hasil tersebut maka terdapat dua fixed-effects dari rata-rata nilai sekolah (school mean) yaitu parameter $\\gamma_{00}$ (cons) dan $\\gamma_{01}$ (meanses). Dari sini terlihat bahwa efek dari rata-rata sosial ekonomi sekolah meanses adalah signifikan ($\\hat{\\gamma}_{01}$ = 5.86 dengan nilai $Z$ = 16.22)\n",
    "\n",
    "#### Variance Component\n",
    "\n",
    "Variance dari residual antar sekolah $\\hat{\\tau}_{00}$ =2.64 jauh lebih kecil dari  $\\hat{\\tau}_{00}$ =8.61 pada model sebelumnya (empty model). Rentang nilai yang mungkin dari rata-rata sekolah dengan seluruh sekolah memiliki rata-rata $meanses$ = 0 adalah:\n",
    "\n",
    "$$\n",
    "\\hat{\\tau}_{00}\\pm 1.96 \\sqrt{\\hat{\\tau}_{00}} = 12.64\\pm1.96 \\sqrt{2.64}= (9.47, 15.83)\n",
    "$$\n",
    "\n",
    "Meskipun rentang ini masih cukup lebar, namun masih lebih kecil dari rentang nilai ketika nilai $meanses$ belum di-kontrol.\n",
    "\n",
    "Dengan membandingkan $\\tau_{00}$ dari kedua model, kita dapat menghitung sebuah index _proportions reduction in variance_ atau _\"variance explained\"_ pada Level-2 atau tingkat sekolah:\n",
    "\n",
    "Proportion of variance explained in $\\beta_{0j}$\n",
    "\n",
    "$$\n",
    "=\\frac{\\hat{\\tau}_{00}(random ANOVA)-\\hat{\\tau}_{00}(MEAN SES)}{\\hat{\\tau}_{00}(random ANOVA)}= \\frac{(8.61-2.64)}{8.61}=0.69\n",
    "$$\n",
    "\n",
    "Artinya, sekitar 69% dari \"true\" variance antar sekolah pada skor matematika ditentukan oleh $MEAN SES$\n",
    "Setelah mengontrol effect dari rata-rata SES (MEAN SES), maka korelasai antar pasangan nilai di pada sekolah yang sama, yang awalnya adalah 0.18, sekarang berkurang menjadi\n",
    "$$\n",
    "\\frac{2.64}{2.64+39.16}=.06\n",
    "$$\n",
    "__Kesimpulannya:__ \n",
    "\n",
    "Kita dapat mengetahui bahwa model _means-as-outcomes_ ini rata-rata kondisi SES di sekolah memiliki asosiasi positif yang signifikan terhadap rata-rata nilai matematika siswa. Meski demikian, meskipun telah mengontrol MEAN SES, sekolah masih bervariasi dalam hal mencapaian nilai matematikanya."
   ]
  },
  {
   "cell_type": "markdown",
   "id": "e444bd79",
   "metadata": {},
   "source": [
    "## Model 3: Model Random Koefisien\n",
    "\n",
    "Pada tahap ini dilakukan analisis hubungan antara status sosial ekonomi siswa SES dengan skor tes matematiknya di setiap 160 sekolah. Dengan kata lain, setiap sekolah seolah-olah memiliki persamaan regresi masing-masing lengkap dengan intercept dan slope/koefisien SES. Untuk itu kita menanyakan beberapa pertanyaan berikut:\n",
    "- Bagaimana rata-rata dari ke 160 persamaan regresi (yaitu: Berapa nilai rata-rata _intercept_ dan _slope_/koefisien SES)\n",
    "- Seberapa besar persamaan-persamaan regresi bervariasi dari satu sekolah ke sekolah lain? Dengan kata lain, sejauh mana _intercept_ bervariasi, dan seberapa jauh _slope_ SES bervariasi?\n",
    "- Bagaiman korelasi antar _intercept_ dan _slopes SES? Apakah sekolah dengan nilai _intercept_ besar, yaitu memiliki rata-rata nilai matematika tinggi juga memiliki nilai _slope_ SES yang tinggi (korelasi antara SES dengan nilai skor)?\n",
    "\n",
    "### Model\n",
    "Model dasar diberikan oleh persamaan berikut:\n",
    "\n",
    "$$\n",
    "Y_{ij}=\\beta_{0j}+\\beta_{1j}X_{ij}+r_{ij}\n",
    "$$\n",
    "\n",
    "Pada persamaan diatas, interpretasi dari _intercept_ adalah nilai ekspektasi dari nilai $Y$ ketika nilai prediktor pada level individu (siswa) adalah = 0. Hal ini tentu saja perlu diperhatika  dengan seksama, karena pada beberapa kasus tidak terdaapt nilai prediktor=0  secara logis. Misalnya untuk variabel _age_ atau _SES_. Untuk variabel_age_, nilai _intercept_ menjadi nilai ekpektasi dari nilai skor matematika apabila _age_ dari individu $ij$ adalah 0. Tentu saja nilai _age_=0 tidak dapat diterima pada konteks ini disebabkan tidak ada seseorang yang berumur 0 yang sudah bersekolah. Untuk itu, perlu dilakukan proses rescaling-recentering. Pembahasan pilihan recentering akan dibahas pada section lain. Pada pembahasan ini, nilai prediktor di rescale /recenter pada rerata sekolah. Oleh karena itu persamaa regresi menjadi sbb:\n",
    "\n",
    "$$\n",
    "Y_{ij}=\\beta_{0j}+\\beta_{1j}(X_{ij}-\\bar{X}_{.j})+r_{ij}\n",
    "$$\n",
    "\n",
    "Pada persamaan ini, nilai predictor pada tingkat siswa di recenter disekitar rerata sekolah (school-mean), maka estiamsi _intercept_ adalah nilai ekspektasi dari outcome ketika nilai prediktor sama dengan nilai rata-rata sekolah. \n",
    "\n",
    "Pada parameter diatas nilai $\\beta_{0j}$ dan $\\beta_{1j}$ dapat bervariasi antar sekolah pada model tingkat 2 sebagai fungsi dari _grand mean_ dan _random error_:\n",
    "\n",
    "$$\n",
    "\\beta_{0j}=\\gamma_{00}+u_{0j}\n",
    "$$\n",
    "\n",
    "$$\n",
    "\\beta_{1j}=\\gamma_{10}+u_{1j}\n",
    "$$\n",
    "\n",
    "Komponen $ u_{0j} $ dan $ u_{1j} $ ini yang menjadikan model ini memperoleh sebutan sebagai \"_Random-Coefficient_\". Dimana:\n",
    "- $\\gamma_{00}$ adalah nilai rata-rata dari rerata sekolah dalam nilai skor test matematika dari keseluruhan populasi sekolah (_grand mean_)\n",
    "- $\\gamma_{10}$ adalah nilai rata-rata _slope_ regresi antara variabel SES dengan nilai skor matematika di antara sekolah-sekolah tersebut\n",
    "- $u_{0j}$ adalah perubahan/berbedaan unik dari nilai _intercept_ atau grand mean_ dari sekolah $j$\n",
    "- $u_{1j}$ adalah perubahan/perbedaan unik dari nilai _slope_ dari sekolah $j$\n",
    "\n",
    "Apabila persamaan padal Level-1 dan Level-2 di substitusikan, maka akan diperoleh sebuah model campuran (_mixed model_)\n",
    "\n",
    "$$\n",
    "Y_{ij}=\\gamma_{00}+\\gamma_{10}(X_{ij}-\\bar{X}_{.j})+u_{0j}+u_{1j}(X_{ij}-\\bar{X}_{.j})+r_{ij}\n",
    "$$\n",
    "\n",
    "Untuk komponen _variance_, dapat ditentukan sbb:\n",
    "\n",
    "$$\n",
    "Var(u_{0j})=\\tau_{00}\n",
    "$$\n",
    "$$\n",
    "Var(u_{1j})=\\tau_{11}\n",
    "$$\n",
    "dan kovariansi diantara keduanya adalah:\n",
    "$$\n",
    "Cov(u_{0j},u_{1j})=\\tau_{01}\n",
    "$$\n",
    "\n",
    "Dimana:\n",
    "$$\n",
    "Var(u_{0j})=Var(\\beta_{0j}-\\gamma_{00})= Var(\\beta_{0j})\n",
    "$$\n",
    "$$\n",
    "Var(u_{1j})=Var(\\beta_{1j}-\\gamma_{10})= Var(\\beta_{1j})\n",
    "$$\n",
    "Hal ini berarti bahwa model regresi _random-coefficient_ memberika estimasi untuk parameter variabelitias pada _random intercepts_ dan _slopes_."
   ]
  },
  {
   "cell_type": "code",
   "execution_count": 19,
   "id": "5d83655e",
   "metadata": {},
   "outputs": [],
   "source": [
    "gen grp_cent_ses = ses - meanses // Kita lakukan school-mean centering (group-centering)"
   ]
  },
  {
   "cell_type": "code",
   "execution_count": 20,
   "id": "9cabde65",
   "metadata": {},
   "outputs": [
    {
     "name": "stdout",
     "output_type": "stream",
     "text": [
      "\n",
      "    Variable |        Obs        Mean    Std. Dev.       Min        Max\n",
      "-------------+---------------------------------------------------------\n",
      "         ses |      7,185    .0001434    .7793552     -3.758      2.692\n",
      "grp_cent_ses |      7,185   -.0059951    .6605881     -3.657       2.85\n"
     ]
    }
   ],
   "source": [
    "sum  ses grp_cent_ses"
   ]
  },
  {
   "cell_type": "code",
   "execution_count": 21,
   "id": "ba07b308",
   "metadata": {},
   "outputs": [
    {
     "name": "stdout",
     "output_type": "stream",
     "text": [
      "\n",
      "Performing EM optimization: \n",
      "\n",
      "Performing gradient-based optimization: \n",
      "\n",
      "Iteration 0:   log restricted-likelihood =  -23357.18  \n",
      "Iteration 1:   log restricted-likelihood = -23357.118  \n",
      "Iteration 2:   log restricted-likelihood = -23357.118  \n",
      "\n",
      "Computing standard errors:\n",
      "\n",
      "Mixed-effects REML regression                   Number of obs     =      7,185\n",
      "Group variable: schid                           Number of groups  =        160\n",
      "\n",
      "                                                Obs per group:\n",
      "                                                              min =         14\n",
      "                                                              avg =       44.9\n",
      "                                                              max =         67\n",
      "\n",
      "                                                Wald chi2(1)      =     292.40\n",
      "Log restricted-likelihood = -23357.118          Prob > chi2       =     0.0000\n",
      "\n",
      "------------------------------------------------------------------------------\n",
      "     mathach |      Coef.   Std. Err.      z    P>|z|     [95% Conf. Interval]\n",
      "-------------+----------------------------------------------------------------\n",
      "grp_cent_ses |   2.193192   .1282585    17.10   0.000      1.94181    2.444574\n",
      "       _cons |   12.64934    .244514    51.73   0.000      12.1701    13.12858\n",
      "------------------------------------------------------------------------------\n",
      "\n",
      "------------------------------------------------------------------------------\n",
      "  Random-effects Parameters  |   Estimate   Std. Err.     [95% Conf. Interval]\n",
      "-----------------------------+------------------------------------------------\n",
      "schid: Unstructured          |\n",
      "               var(grp_ce~s) |   .6939836   .2807834       .314019    1.533707\n",
      "                  var(_cons) |   8.681695   1.079634      6.803794    11.07791\n",
      "         cov(grp_ce~s,_cons) |   .0507475    .406395      -.745772    .8472671\n",
      "-----------------------------+------------------------------------------------\n",
      "               var(Residual) |    36.7002   .6257439      35.49403    37.94735\n",
      "------------------------------------------------------------------------------\n",
      "LR test vs. linear model: chi2(3) = 1065.70               Prob > chi2 = 0.0000\n",
      "\n",
      "Note: LR test is conservative and provided only for reference.\n"
     ]
    }
   ],
   "source": [
    "mixed mathach grp_cent_ses || schid: grp_cent_ses, cov(un) reml // Jalankan mixed model"
   ]
  },
  {
   "cell_type": "code",
   "execution_count": 22,
   "id": "afc9f294",
   "metadata": {},
   "outputs": [
    {
     "name": "stdout",
     "output_type": "stream",
     "text": [
      "\n",
      "Conditional intraclass correlation\n",
      "\n",
      "------------------------------------------------------------------------------\n",
      "                       Level |        ICC   Std. Err.     [95% Conf. Interval]\n",
      "-----------------------------+------------------------------------------------\n",
      "                       schid |   .1913031   .0194602      .1560252    .2323614\n",
      "------------------------------------------------------------------------------\n",
      "Note: ICC is conditional on zero values of random-effects covariates.\n"
     ]
    }
   ],
   "source": [
    "estat icc"
   ]
  },
  {
   "cell_type": "markdown",
   "id": "acc817bb",
   "metadata": {},
   "source": [
    "### Hasil Estimasi\n",
    "\n",
    "#### Fixed effects:\n",
    "\n",
    "Ada dua fixed effects yang ditunjukkan dengan koefisien _grp_cent_ses_ dan _cons_. Koefisien _cons_ adalah rata-rata keseluruhan dari nilai rerata nilai matematika sekolah, dan Koefisien grp_cent_ses adalah rata-rata slope dari SES-dan nilai matematika di sekolah\n",
    "\n",
    "#### Komponen Variance-Covariance:\n",
    "- _var( cons)_:\n",
    "adalah estimasi variance dari rerata sekolah $\\hat{\\tau}_{00}$ = 8.68 dan signifikan. Ini diartikan bahwa terdapat perbedaan signifikan diantara rata-rata nilai matematika sekolah (Konsisten dengan hasil empty model)\n",
    "\n",
    "- var(grp_ce~s): estimated variance of the slopes yaitu $\\hat{\\tau}_{11}$ = 0.69 dan signifikan. Ini diartikan bahwa hubungan antara SES dan nilai skor matematik di dalam sekolah bervariasi secara signifikan diantara semua populasi sekolah\n",
    "\n",
    "Nilai yang mungkin untuk nilai rerata sekolah dan _slopes_ SES-skor matematika spesifik untuk tiap sekolah dapat dihitung dengan fomula berikut untuk rentang nilai yang mungkin pada tingkat kepercayaan 95%:\n",
    "\n",
    "$$\n",
    "\\hat{\\gamma}_{q0}\\pm1.96\\sqrt{\\hat{\\tau}_{qq}}\n",
    "$$\n",
    "Maka:\n",
    "- Nilai rerata skor matematika untuk setiap sekolah adalah $12.64\\pm1.96\\sqrt{8.68}=(6.87, 18.41) $\n",
    "- Nilai slope SES-skor matematika untuk tiap sekolah yang mungkin adalah $ 2.19\\pm1.96\\sqrt{0.69}=(0.56,3.81) $\n",
    "\n",
    "Dengan membandingkan $\\tau_{00}$ dari kedua model, kita dapat menghitung sebuah index _proportions reduction in variance_ atau _\"variance explained\"_ pada Level-2 atau tingkat sekolah:\n",
    "\n",
    "_Proportion of variance explaiend_ in $\\beta_{0j}$\n",
    "$$\n",
    "=\\frac{\\hat{\\tau}_{00}(random ANOVA)-\\hat{\\tau}_{00}(SES)}{\\hat{\\tau}_{00}(random ANOVA)}= \\frac{(39.15-36.70)}{39.15}=0.063\n",
    "$$\n",
    "Artinya, SES menentukan sekitar 6.3% terhadap variance pada tingkat siswa/individu  pada outcome. Ketika dibandingkan dengan models sebelumnya dimana MEAN SES menentukan sekitar 60% dari variansi antar sekolak pada outcome, maka jelas bahwa asosiasi antara dua variabel ini jauh lebih kuat di tingkat sekolah dibandiungkan pada tingkat individu siswa."
   ]
  },
  {
   "cell_type": "markdown",
   "id": "bb2beacf",
   "metadata": {},
   "source": [
    "\n",
    "## Model 4: Model Intercept and Slopes as Outcomes\n"
   ]
  },
  {
   "cell_type": "markdown",
   "id": "0f5a9cf7",
   "metadata": {},
   "source": [
    "Setelah sebelumnya melakukan estimasi variabilitas dari persamaan regresi dari seluruh sekolah ( satu persamaan regresi untuk setiap sekolah), kini saatnya untuk membangun model eksplanatoris untuk menjelaskan variabilitas dari persamaan regresi tersebut. Secara spesifik, kita ingin memahami mengapa beberapa sekolah memiliki rerata nilai skor matematika lebih tinggi dibandingka sekolah-sekolah lain, dan menjelaskan mengapa pada beberapa sekolah asosiasi antara SES dengan skor matematika lebih kuat dibandingkan sekolah lain.\n",
    "\n",
    "#### Model\n",
    "Model pada tingkat siswa (level-1) masih tetap sama pada model sebelumnya:\n",
    "\n",
    "$$\n",
    "Y_{ij}=\\beta_{0j}+\\beta_{1j}(X_{ij}-\\bar{X}_{.j})+r_{ij}\n",
    "$$\n",
    "\n",
    "Yang membedakan adalah, model pada tingkat sekolah (level-2) dikembangkan dengan memasukkan prediktor tingkat sekolah yaitu SCHTYPE dan MEAN SES. Dengan kata lain kita ingin memodelkan bahwa baik nilai rerata skor matematika maupun hubungan antara status SES siswa dengan nilai skor matematika di tingkat sekolah adalah ditentukan juga oleh konteks sekolah, yiatu status SES siswa rata-rata (MEAN SES) dan jenik sekolah (SCHTYPE). Maka persamaan regresi di tingkat sekolah adalah:\n",
    "$$\n",
    "\\beta_{0j}=\\gamma_{00}+\\gamma_{01}(MEAN SES)_{j}+\\gamma_{02}(SCHTYPE)_{j}+u_{0j} $$\n",
    "$$\n",
    "\\beta_{10}=\\gamma_{11}+\\gamma_{01}(MEAN SES)_{j}+\\gamma_{12}(SCHTYPE)_{j}+u_{1j}\n",
    "$$\n",
    "\n",
    "Dengan mengkombinasikan model pada tingkat sekolah (school-level/Level-2) dengan model pada tingkat individu/siswa (student-level/Level-1), maka akan diperoleh persamaan campuran berikut ini:\n",
    "\n",
    "$$Y_{ij}=\\gamma_{00}+\\gamma_{01}(MEAN SES)_{j}+\\gamma_{02}(SCHTYPE)_{j}$$\n",
    "$$+\\gamma_{10}(X_{ij}-\\bar{X}_{.j})+\\gamma_{11}(MEAN SES)_{j}(X_{ij}-\\bar{X}_{.j})$$\n",
    "$$+\\gamma_{12}(SCHTYPE)(X_{ij}-\\bar{X}_{.j})+u_{0j}+u_{1j}(X_{ij}-\\bar{x}_{.j})+r_{ij}$$\n",
    "\n",
    "Persamaan diatas menggambarkan bahwa outcome (skor nilai matematika individu) merupakan sebuah fungsi dari _overall intercept_ $(\\gamma_{00})$, efek utama dari MEAN SES $(\\gamma_{01})$, efek utama dari SCHTYPE $(\\gamma{02})$, efek utama dari SES $(\\gamma_{10})$, dan 2 buah efek interaksi antar tingkat (_cross level interaction_) yang terdiri dari SCHTYPE dengan status SES siswa $(\\gamma_{12})$ dan MEAN SES dengan status SES siswa $()\\gamma_{11}$, dengan sebuah komponen _random error_:\n",
    "$$\n",
    "u_{1j}(X_{ij}-\\bar{X}_{.j})+r_{ij}\n",
    "$$\n",
    "\n",
    "Dari persamaan diatas, dapat diuraikan lebih lanjut beberapa jenis pertanyaan yang menjadi motivasi untuk analisis:\n",
    "- Apakah MEAN SES dan SCHTYPE secara signifikan memprediksi intersep (estimasi parameter $\\gamma_{01}$ dan $\\gamma_{02}$)?\n",
    "- Apakah MEAN SES dan SCHTYPE secara signifikan memprediksi kemiringan atau _slopes_ SES dengan skor matematika siswa di dalam tiap sekolah (_within-school_) (estimasi parameter $\\gamma_{11}$ dan $\\gamma_{12}$)?\n",
    "- Seberapa besar variasi dari _intercept_ dan _slopes_ dapat dijelaskan denngan menggunakan SCHTYPE dan MEAN SES sebagai prediktor? (Estimasi komponen variansi $Var(u_{0j})=\\tau_{00}$ dan $Var(u_{1j})=\\tau_{11}$, dan membandingkannya dengan hasil estimasi yang diperoleh pada model _random coefficient_ sebelumnya)"
   ]
  },
  {
   "cell_type": "code",
   "execution_count": 24,
   "id": "a66ba007",
   "metadata": {},
   "outputs": [
    {
     "name": "stdout",
     "output_type": "stream",
     "text": [
      "\n",
      "Performing EM optimization: \n",
      "\n",
      "Performing gradient-based optimization: \n",
      "\n",
      "Iteration 0:   log restricted-likelihood = -23252.888  \n",
      "Iteration 1:   log restricted-likelihood = -23251.837  \n",
      "Iteration 2:   log restricted-likelihood = -23251.834  \n",
      "Iteration 3:   log restricted-likelihood = -23251.834  \n",
      "\n",
      "Computing standard errors:\n",
      "\n",
      "Mixed-effects REML regression                   Number of obs     =      7,185\n",
      "Group variable: schid                           Number of groups  =        160\n",
      "\n",
      "                                                Obs per group:\n",
      "                                                              min =         14\n",
      "                                                              avg =       44.9\n",
      "                                                              max =         67\n",
      "\n",
      "                                                Wald chi2(5)      =     746.33\n",
      "Log restricted-likelihood = -23251.834          Prob > chi2       =     0.0000\n",
      "\n",
      "------------------------------------------------------------------------------\n",
      "     mathach |      Coef.   Std. Err.      z    P>|z|     [95% Conf. Interval]\n",
      "-------------+----------------------------------------------------------------\n",
      "     meanses |   5.339119   .3692995    14.46   0.000     4.615306    6.062933\n",
      "     schtype |   1.216672    .306386     3.97   0.000     .6161663    1.817177\n",
      "grp_cent_ses |   2.938764    .155086    18.95   0.000     2.634801    3.242727\n",
      "             |\n",
      "   c.meanses#|\n",
      "          c. |\n",
      "grp_cent_ses |   1.038884   .2988887     3.48   0.001     .4530734    1.624695\n",
      "             |\n",
      "     schtype#|\n",
      "          c. |\n",
      "grp_cent_ses |\n",
      "          1  |  -1.642587   .2397809    -6.85   0.000    -2.112549   -1.172625\n",
      "             |\n",
      "       _cons |   12.11358   .1988076    60.93   0.000     11.72393    12.50324\n",
      "------------------------------------------------------------------------------\n",
      "\n",
      "------------------------------------------------------------------------------\n",
      "  Random-effects Parameters  |   Estimate   Std. Err.     [95% Conf. Interval]\n",
      "-----------------------------+------------------------------------------------\n",
      "schid: Unstructured          |\n",
      "               var(grp_ce~s) |   .1012193   .2138705      .0016096    6.365064\n",
      "                  var(_cons) |    2.38187   .3717503       1.75415    3.234218\n",
      "         cov(grp_ce~s,_cons) |   .1925536   .2044905     -.2082403    .5933475\n",
      "-----------------------------+------------------------------------------------\n",
      "               var(Residual) |   36.72119   .6261423      35.51425    37.96914\n",
      "------------------------------------------------------------------------------\n",
      "LR test vs. linear model: chi2(3) = 220.57                Prob > chi2 = 0.0000\n",
      "\n",
      "Note: LR test is conservative and provided only for reference.\n"
     ]
    }
   ],
   "source": [
    "mixed mathach meanses schtype grp_cent_ses /// \n",
    "    c.meanses#c.grp_cent_ses i.schtype#c.grp_cent_ses || schid: grp_cent_ses , reml cov(un)"
   ]
  },
  {
   "cell_type": "markdown",
   "id": "90fdfcc7",
   "metadata": {},
   "source": [
    "### Hasil Estimasi:\n",
    "\n",
    "#### Fixed Effect\n",
    "Hasil diatas dapat kita interpretasikan sebagai berikut:\n",
    "- Koefisien _meanses_ ($\\hat{\\gamma}_{01}$) menunjukkan bahwa MEAN SES berhubungan positif secara signifikas dengan rata-rata sekolah nilai skor matematika ($\\hat{\\gamma}_{01} = 5.34, z=14.46$)\n",
    "- Koefisien _schtype_ ($\\hat{\\gamma}_{02}$) menunjukkan bahwa SCHTYPE, dalam hal ini sekolah swasta/sekolah katolik memiliki nilai rata-rata skor matematika dibandingkan sekolah negeri/publik ($\\hat{\\gamma}_{02}=1.22, z=3.97 $)\n",
    "- Koefisien _grp_cent_ses_ ($\\hat{\\gamma}_{10}$) menunjukkan bahwa status SES siswa secara umum berkontribusi pada peningkatan skor matematika siswa sebesar 2.94 point untuk setiap peningkatan 1 point dalam status SES siswa  ($\\hat{\\gamma}_{10}=2.94, z=18.95 $).\n",
    "\n",
    "Pada koefisien interaksi:\n",
    "- Koefisien _c.meanses#c.grp_cent_ses_ ($\\hat{\\gamma}_{11}$) menunjukkan bahwa sekolah dengan MEAN SES yang tinggi cenderung memiliki nilai _slopes_ SES dengan skor matematika yang lebih besar, mengindikasikan bahmwa sekolah dengan nilai MEAN SES cenderung memiliki kekuatan hubungan antara SES dengan skor matematika yang lebih kuat secara positif dan signifikasn ($\\hat{\\gamma}_{11}=1.04, z= 3.48$).\n",
    "- Koefisien _schtype#c.grp_cent_ses_ ($\\hat{\\gamma}_{12}$) menunjukkan bahwa sekolah swasta/katolik cenderung memiliki kekuatan hubungan (_slopes_) antara SES dengan skor matematika yang lebih rendah dibandingkan sekolah negeri/publik ($\\hat{\\gamma}_{12}=-1.64, z=-6.85$)\n",
    "\n",
    "#### Komponen Variance-Covariance\n",
    "Secara Subjektif, dapat kita bandingkan hasil estimasi komponen variance-covariancce antara model ini dengan model sebelumnya. Pada model ini terlihat bahwa rata-rata variance rata-rata sekolah ($u_0j$) dan variance slope ses-skor matematika ($u_1j$) adalah 2.38 dan 0.10, dibandingkan pada model _random coefficient_ yang memiliki nilai estimasi variance 8.68 dan 0.69\n",
    "\n",
    "Seperti halnya sebelumnya, kita dapat menghitung proporsi reduksi variance-covariance yang terjelaskan oleh model  (_proportions reduction in variance-covariance_) pada koefisien $\\beta_{qj}$\n",
    "$$\n",
    "=\\frac{\\hat{\\tau}_{qq}(random regression)-\\hat{\\tau}_{qq}(fitted model)}{\\hat{\\tau}_{qq}(random regression)}\n",
    "$$\n",
    "\n",
    "$$\n",
    "=\\frac{8.68-2.38}{8.68}=0.73\n",
    "$$\n",
    "\n",
    "Hasil diatas menunjukkan bahwa dengan variabel level-2 MEAN SES dan SCHTYPE berhasil menjelaskan variasi pada estimasi parameter rata-rata sekolah dalam skor matematika sebesar 73% dari model sebelumnya (random coefficient). Demikian pula untuk variansi residual, variabel level-2 MEAN SES dan SCHTYPE menjelaskan variasi residual sebesar 54% ($\\frac{0.69-0.1}{0.1}=0.54$)\n"
   ]
  },
  {
   "cell_type": "code",
   "execution_count": 25,
   "id": "c3278e6a",
   "metadata": {},
   "outputs": [
    {
     "name": "stdout",
     "output_type": "stream",
     "text": [
      "\n",
      "Akaike's information criterion and Bayesian information criterion\n",
      "\n",
      "-----------------------------------------------------------------------------\n",
      "       Model |        Obs  ll(null)  ll(model)      df         AIC        BIC\n",
      "-------------+---------------------------------------------------------------\n",
      "           . |      7,185         .  -23251.83      10    46523.67   46592.47\n",
      "-----------------------------------------------------------------------------\n",
      "               Note: N=Obs used in calculating BIC; see [R] BIC note.\n"
     ]
    }
   ],
   "source": [
    "estat ic"
   ]
  },
  {
   "cell_type": "markdown",
   "id": "c3f3d539",
   "metadata": {},
   "source": [
    "## How to Decide Centering Independent Variables"
   ]
  },
  {
   "cell_type": "markdown",
   "id": "aa41e7b9",
   "metadata": {},
   "source": [
    "Yang dimaksud dengan _\"centering\"_ dalam analisis HLM adalah merubah nilai sedemikian rupa untuk memperbaiki interpretasi model. Terdapat 3 jenis centering dalam analisis HLM:\n",
    "- uncentered $(X_{ij})$ : variabel dipertahankan pada nilai aslinya. Interpretasinya bahwa zero = 0\n",
    "- cluster/group-mean centering $(X_{ij}-\\bar{X}_{.j})$ : Variabel dirubah sedemikian rupa sehingga menunjukkan perbedaan antara individu dengan groupnya. Interpretasi zero = group mean\n",
    "- grand-mean centering $(X_{ij}-\\bar{\\bar{X}}_{..})$: variabel dirubah sedemikin rupa sehingga menunjukkan perbedaa individu dengan nilai rata-rata keseluruhan populasi. Interpretasinya zero = overall mean\n",
    "\n",
    "Konsekuensi Centering:\n",
    "- dapat merubah interpretasi dari intercept pada level 1\n",
    "- dapar mempengaruhi estimasi dari slopes"
   ]
  },
  {
   "cell_type": "code",
   "execution_count": 26,
   "id": "551d7c02",
   "metadata": {},
   "outputs": [
    {
     "name": "stdout",
     "output_type": "stream",
     "text": [
      "\n",
      "\n",
      "\n",
      "\n",
      "\n",
      "\n",
      "\n",
      "    Variable |        Obs        Mean    Std. Dev.       Min        Max\n",
      "-------------+---------------------------------------------------------\n",
      "ses_uncent~d |      7,185    .0001434    .7793552     -3.758      2.692\n",
      "ses_group_~d |      7,185   -1.62e-10     .660588  -3.650741   2.856078\n",
      "ses_grand_~d |      7,185    4.67e-10    .7793552  -3.758143   2.691857\n"
     ]
    }
   ],
   "source": [
    "gen ses_uncentered = ses //uncentered\n",
    "\n",
    "egen gmses=mean(ses), by(schid) //group-mean centered\n",
    "gen ses_group_ctrd = ses - gmses\n",
    "\n",
    "egen grandmses = mean(gmses) //grand-mean centered\n",
    "gen ses_grand_ctrd = ses - grandmses\n",
    "\n",
    "sum ses_uncentered ses_group_ctrd ses_grand_ctrd"
   ]
  },
  {
   "cell_type": "code",
   "execution_count": null,
   "id": "f74dd06c",
   "metadata": {},
   "outputs": [],
   "source": []
  }
 ],
 "metadata": {
  "kernelspec": {
   "display_name": "Stata",
   "language": "stata",
   "name": "stata"
  },
  "language_info": {
   "codemirror_mode": "stata",
   "file_extension": ".do",
   "mimetype": "text/x-stata",
   "name": "stata",
   "version": "15.1"
  }
 },
 "nbformat": 4,
 "nbformat_minor": 5
}
